{
 "cells": [
  {
   "cell_type": "code",
   "execution_count": null,
   "id": "initial_id",
   "metadata": {
    "collapsed": true,
    "jupyter": {
     "outputs_hidden": true
    }
   },
   "outputs": [],
   "source": []
  },
  {
   "cell_type": "code",
   "execution_count": null,
   "id": "724aede07f80251a",
   "metadata": {
    "collapsed": false
   },
   "outputs": [],
   "source": []
  },
  {
   "cell_type": "markdown",
   "id": "b3a948416793fec4",
   "metadata": {},
   "source": []
  },
  {
   "cell_type": "code",
   "execution_count": 1,
   "id": "ccfa06450766ac36",
   "metadata": {
    "ExecuteTime": {
     "end_time": "2024-08-08T14:43:07.043325600Z",
     "start_time": "2024-08-08T14:43:04.409838600Z"
    },
    "collapsed": false
   },
   "outputs": [],
   "source": []
  },
  {
   "cell_type": "code",
   "execution_count": 7,
   "id": "b63639e620adaa3f",
   "metadata": {
    "collapsed": false,
    "ExecuteTime": {
     "end_time": "2024-11-18T07:17:56.772815700Z",
     "start_time": "2024-11-18T07:17:56.747821900Z"
    }
   },
   "outputs": [],
   "source": [
    "from py2neo import Graph, Node\n",
    "\n",
    "import configparser"
   ]
  },
  {
   "cell_type": "code",
   "execution_count": 8,
   "id": "44193b011fd261c9",
   "metadata": {
    "collapsed": false,
    "ExecuteTime": {
     "end_time": "2024-11-18T07:17:58.536780Z",
     "start_time": "2024-11-18T07:17:58.515781300Z"
    }
   },
   "outputs": [
    {
     "name": "stdout",
     "output_type": "stream",
     "text": [
      "connecting Neo4j ...\n",
      "Successfully connected to the Neo4j database!\n"
     ]
    }
   ],
   "source": [
    "config = configparser.ConfigParser()\n",
    "config.read(\"config.ini\")\n",
    "neo4j_profile = config[\"neo4j\"][\"profile\"]\n",
    "neo4j_user = config[\"neo4j\"][\"username\"]\n",
    "neo4j_password = config[\"neo4j\"][\"password\"]\n",
    "print(\"connecting Neo4j ...\")\n",
    "graph = Graph(neo4j_profile, auth=(neo4j_user, neo4j_password))\n",
    "\n",
    "print(\"Successfully connected to the Neo4j database!\")\n"
   ]
  },
  {
   "cell_type": "code",
   "execution_count": 4,
   "id": "6db809537bfebe27",
   "metadata": {
    "collapsed": false,
    "ExecuteTime": {
     "end_time": "2024-11-18T04:55:24.245547600Z",
     "start_time": "2024-11-18T04:49:00.134167400Z"
    }
   },
   "outputs": [],
   "source": [
    "authors = []\n",
    "with open('dataset/network/author.txt', 'r', encoding='utf-8') as file:\n",
    "    for line in file:\n",
    "        parts = line.strip().split('\\t')\n",
    "        author_id = parts[0]\n",
    "        author_code = parts[1]\n",
    "        author_name = parts[2]\n",
    "        authors.append((author_id, author_code, author_name))\n",
    "\n",
    "# Insert author nodes into the Neo4j database\n",
    "for author_id, author_code, author_name in authors:\n",
    "    node = Node(\"Author\", id=author_id, code=author_code, name=author_name)\n",
    "    graph.create(node)"
   ]
  },
  {
   "cell_type": "code",
   "execution_count": 5,
   "id": "7249a1a7cc0a38d7",
   "metadata": {
    "collapsed": false,
    "ExecuteTime": {
     "end_time": "2024-11-18T04:58:27.524587300Z",
     "start_time": "2024-11-18T04:55:24.248547700Z"
    }
   },
   "outputs": [],
   "source": [
    "papers = []\n",
    "with open('dataset/network/paper.txt', 'r', encoding='utf-8') as file:\n",
    "    for line in file:\n",
    "        parts = line.strip().split('\\t')\n",
    "        paper_id = parts[0]\n",
    "        paper_code = parts[1]\n",
    "        papers.append((paper_id, paper_code))\n",
    "\n",
    "# Insert paper nodes into the Neo4j database\n",
    "for paper_id, paper_code in papers:\n",
    "    node = Node(\"Paper\", id=paper_id, code=paper_code)\n",
    "    graph.create(node)"
   ]
  },
  {
   "cell_type": "code",
   "execution_count": 6,
   "id": "63bb74ae91a757d6",
   "metadata": {
    "collapsed": false,
    "ExecuteTime": {
     "end_time": "2024-11-18T05:37:09.082864900Z",
     "start_time": "2024-11-18T04:58:27.531623100Z"
    }
   },
   "outputs": [
    {
     "name": "stdout",
     "output_type": "stream",
     "text": [
      "All author-paper relationships have been successfully added to the Neo4j database.\n"
     ]
    }
   ],
   "source": [
    "# Read the author-paper.txt file and create relationships\n",
    "with open('dataset/network/author-paper.txt', 'r', encoding='utf-8') as file:\n",
    "    for line in file:\n",
    "        parts = line.strip().split('\\t')\n",
    "        author_id = parts[0]\n",
    "        paper_id = parts[1]\n",
    "\n",
    "        query = f\"\"\"\n",
    "        MATCH (a:Author {{id: '{author_id}'}}), (p:Paper {{id: '{paper_id}'}})\n",
    "        CREATE (a)-[:WROTE]->(p)\n",
    "        \"\"\"\n",
    "        graph.run(query)\n",
    "\n",
    "print(\"All author-paper relationships have been successfully added to the Neo4j database.\")\n"
   ]
  },
  {
   "cell_type": "code",
   "execution_count": 6,
   "id": "e66269b5c83bf85f",
   "metadata": {
    "collapsed": false,
    "ExecuteTime": {
     "end_time": "2024-11-18T05:37:09.131675800Z",
     "start_time": "2024-11-18T05:37:09.085961400Z"
    }
   },
   "outputs": [],
   "source": []
  },
  {
   "cell_type": "code",
   "execution_count": 6,
   "id": "22ee6d1e229c6c7d",
   "metadata": {
    "collapsed": false,
    "ExecuteTime": {
     "end_time": "2024-11-18T05:37:09.132675200Z",
     "start_time": "2024-11-18T05:37:09.103776300Z"
    }
   },
   "outputs": [],
   "source": []
  },
  {
   "cell_type": "code",
   "execution_count": 6,
   "id": "e14495e47cfda12f",
   "metadata": {
    "collapsed": false,
    "ExecuteTime": {
     "end_time": "2024-11-18T05:37:09.138798400Z",
     "start_time": "2024-11-18T05:37:09.118771700Z"
    }
   },
   "outputs": [],
   "source": []
  },
  {
   "cell_type": "code",
   "execution_count": null,
   "id": "24c8d32b14818ebd",
   "metadata": {
    "collapsed": false,
    "ExecuteTime": {
     "end_time": "2024-11-06T17:53:57.656806600Z",
     "start_time": "2024-11-06T17:53:57.655702600Z"
    }
   },
   "outputs": [],
   "source": []
  },
  {
   "cell_type": "code",
   "execution_count": null,
   "id": "d373d6d5fcfdb565",
   "metadata": {
    "collapsed": false,
    "ExecuteTime": {
     "start_time": "2024-11-06T17:53:57.657998800Z"
    }
   },
   "outputs": [],
   "source": []
  },
  {
   "cell_type": "code",
   "execution_count": 12,
   "id": "85d7d86b-6bcc-4417-9bdc-e8ae591e5733",
   "metadata": {
    "ExecuteTime": {
     "end_time": "2024-10-21T08:58:52.016121300Z",
     "start_time": "2024-10-21T08:58:08.943334600Z"
    }
   },
   "outputs": [
    {
     "name": "stdout",
     "output_type": "stream",
     "text": [
      "All airport-country relationships have been successfully added to the Neo4j database.\n"
     ]
    }
   ],
   "source": []
  },
  {
   "cell_type": "code",
   "execution_count": 13,
   "id": "cab21280-03e8-42cf-8f42-2b21f1733e32",
   "metadata": {
    "ExecuteTime": {
     "end_time": "2024-10-21T08:59:36.932714600Z",
     "start_time": "2024-10-21T08:58:52.008404200Z"
    }
   },
   "outputs": [
    {
     "name": "stdout",
     "output_type": "stream",
     "text": [
      "All airport-region relationships have been successfully added to the Neo4j database.\n"
     ]
    }
   ],
   "source": []
  },
  {
   "cell_type": "code",
   "execution_count": 14,
   "id": "5ececb8a-d2f6-489e-a545-0fe8e0b06ffb",
   "metadata": {
    "ExecuteTime": {
     "end_time": "2024-10-21T09:00:13.830677900Z",
     "start_time": "2024-10-21T08:59:36.933719200Z"
    }
   },
   "outputs": [
    {
     "name": "stdout",
     "output_type": "stream",
     "text": [
      "All city-continent relationships have been successfully added to the Neo4j database.\n"
     ]
    }
   ],
   "source": []
  },
  {
   "cell_type": "code",
   "execution_count": 15,
   "id": "2c526e18-d881-4593-8fde-e21a1b2a2352",
   "metadata": {
    "ExecuteTime": {
     "end_time": "2024-10-21T09:00:51.374135300Z",
     "start_time": "2024-10-21T09:00:13.840221400Z"
    }
   },
   "outputs": [
    {
     "name": "stdout",
     "output_type": "stream",
     "text": [
      "All city-country relationships have been successfully added to the Neo4j database.\n"
     ]
    }
   ],
   "source": []
  },
  {
   "cell_type": "code",
   "execution_count": 16,
   "id": "abe3da2b-4989-4da2-8f9d-e4c78aeb7399",
   "metadata": {
    "ExecuteTime": {
     "end_time": "2024-10-21T09:01:30.404891500Z",
     "start_time": "2024-10-21T09:00:51.375103700Z"
    }
   },
   "outputs": [
    {
     "name": "stdout",
     "output_type": "stream",
     "text": [
      "All city-region relationships have been successfully added to the Neo4j database.\n"
     ]
    }
   ],
   "source": []
  },
  {
   "cell_type": "code",
   "execution_count": 17,
   "id": "d1c942d5-d8dd-4ac8-bfa5-1dc1cd49aeab",
   "metadata": {
    "ExecuteTime": {
     "end_time": "2024-10-21T09:01:32.686878500Z",
     "start_time": "2024-10-21T09:01:30.413267500Z"
    }
   },
   "outputs": [
    {
     "name": "stdout",
     "output_type": "stream",
     "text": [
      "All country-continent relationships have been successfully added to the Neo4j database.\n"
     ]
    }
   ],
   "source": []
  },
  {
   "cell_type": "code",
   "execution_count": 18,
   "id": "4437a959-4d6f-48a5-85c1-2deefb8c1fab",
   "metadata": {
    "ExecuteTime": {
     "end_time": "2024-10-21T09:01:48.075540400Z",
     "start_time": "2024-10-21T09:01:32.693400800Z"
    }
   },
   "outputs": [
    {
     "name": "stdout",
     "output_type": "stream",
     "text": [
      "All region-continent relationships have been successfully added to the Neo4j database.\n"
     ]
    }
   ],
   "source": []
  },
  {
   "cell_type": "code",
   "execution_count": 19,
   "id": "2bf38fb4-139c-4ac5-a406-d8a5f6a0a11a",
   "metadata": {
    "ExecuteTime": {
     "end_time": "2024-10-21T09:02:03.617209900Z",
     "start_time": "2024-10-21T09:01:48.052533900Z"
    }
   },
   "outputs": [
    {
     "name": "stdout",
     "output_type": "stream",
     "text": [
      "All region-country relationships have been successfully added to the Neo4j database.\n"
     ]
    }
   ],
   "source": []
  },
  {
   "cell_type": "code",
   "execution_count": 19,
   "id": "8eef53c3-8119-491d-924c-10c4dbc57b98",
   "metadata": {
    "ExecuteTime": {
     "end_time": "2024-10-21T09:02:03.634648Z",
     "start_time": "2024-10-21T09:02:03.622757300Z"
    }
   },
   "outputs": [],
   "source": []
  },
  {
   "cell_type": "code",
   "execution_count": null,
   "id": "2d5830d2-1b8d-4729-9615-bb22df42edb5",
   "metadata": {},
   "outputs": [],
   "source": []
  },
  {
   "cell_type": "code",
   "execution_count": null,
   "id": "2ef1d3c2-cfe9-4a28-a004-7ffc309605a2",
   "metadata": {},
   "outputs": [],
   "source": []
  }
 ],
 "metadata": {
  "kernelspec": {
   "name": "python3",
   "language": "python",
   "display_name": "Python 3 (ipykernel)"
  },
  "language_info": {
   "codemirror_mode": {
    "name": "ipython",
    "version": 3
   },
   "file_extension": ".py",
   "mimetype": "text/x-python",
   "name": "python",
   "nbconvert_exporter": "python",
   "pygments_lexer": "ipython3",
   "version": "3.8.10"
  }
 },
 "nbformat": 4,
 "nbformat_minor": 5
}
